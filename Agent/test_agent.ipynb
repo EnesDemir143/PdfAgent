{
 "cells": [
  {
   "metadata": {
    "ExecuteTime": {
     "end_time": "2025-05-13T12:16:34.689853Z",
     "start_time": "2025-05-13T12:16:34.685634Z"
    }
   },
   "cell_type": "code",
   "source": [
    "import requests\n",
    "\n",
    "def get_stream(query: str, pdf_path: str = None):\n",
    "    url = \"http://localhost:5555/invoke\"\n",
    "    files = {}\n",
    "    data = {\"content\": query}\n",
    "\n",
    "    if pdf_path is not None:\n",
    "        files[\"pdf_file\"] = open(pdf_path, \"rb\")\n",
    "\n",
    "    with requests.post(url, data=data, files=files, stream=True, headers={\"Accept\": \"text/event-stream\"}) as response:\n",
    "        for line in response.iter_lines(decode_unicode=True):\n",
    "            if line:\n",
    "                print(line)\n",
    "\n",
    "    if pdf_path is not None:\n",
    "        files[\"pdf_file\"].close()\n"
   ],
   "id": "ea6c0d3116e59ca9",
   "outputs": [],
   "execution_count": 71
  },
  {
   "metadata": {},
   "cell_type": "code",
   "source": "get_stream(\"PDF'deki amaç nedir açıklar mısın?\", pdf_path=\"proje.pdf\")",
   "id": "bcc85da4a7845f4a",
   "outputs": [],
   "execution_count": null
  },
  {
   "metadata": {
    "ExecuteTime": {
     "end_time": "2025-05-13T12:17:26.486828Z",
     "start_time": "2025-05-13T12:17:20.106628Z"
    }
   },
   "cell_type": "code",
   "source": "get_stream(\"hİ my name is enes\")",
   "id": "4be88e6fb14b0141",
   "outputs": [
    {
     "name": "stdout",
     "output_type": "stream",
     "text": [
      "<step><step_name>final_answer</step_name><answer>Hello Enes, it's nice to meet you!</answer><tools_used>[]</tools_used>\n"
     ]
    }
   ],
   "execution_count": 73
  },
  {
   "metadata": {
    "ExecuteTime": {
     "end_time": "2025-05-13T11:23:32.685887Z",
     "start_time": "2025-05-13T11:23:25.664143Z"
    }
   },
   "cell_type": "code",
   "source": "get_stream(\"Do you know my name\")",
   "id": "30602b5a85afb437",
   "outputs": [
    {
     "name": "stdout",
     "output_type": "stream",
     "text": [
      "<step><step_name>final_answer</step_name><answer>Yes, I know your name is Enes.</answer><tools_used>[]</tools_used>\n"
     ]
    }
   ],
   "execution_count": 46
  },
  {
   "metadata": {
    "ExecuteTime": {
     "end_time": "2025-05-13T11:01:36.498851Z",
     "start_time": "2025-05-13T11:01:36.480314Z"
    }
   },
   "cell_type": "code",
   "source": "get_stream(\"PDF'deki amaç nedir açıklar mısın?\", pdf_path=\"proje.pdf\")",
   "id": "f3690f710168f1ae",
   "outputs": [
    {
     "name": "stdout",
     "output_type": "stream",
     "text": [
      "{\"detail\":[{\"type\":\"missing\",\"loc\":[\"query\",\"content\"],\"msg\":\"Field required\",\"input\":null}]}"
     ]
    }
   ],
   "execution_count": 38
  },
  {
   "metadata": {},
   "cell_type": "code",
   "outputs": [],
   "execution_count": null,
   "source": "",
   "id": "58908d2120e4577e"
  }
 ],
 "metadata": {
  "kernelspec": {
   "display_name": "Python 3",
   "language": "python",
   "name": "python3"
  },
  "language_info": {
   "codemirror_mode": {
    "name": "ipython",
    "version": 2
   },
   "file_extension": ".py",
   "mimetype": "text/x-python",
   "name": "python",
   "nbconvert_exporter": "python",
   "pygments_lexer": "ipython2",
   "version": "2.7.6"
  }
 },
 "nbformat": 4,
 "nbformat_minor": 5
}
