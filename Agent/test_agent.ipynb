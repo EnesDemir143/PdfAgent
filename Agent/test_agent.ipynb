{
 "cells": [
  {
   "metadata": {
    "ExecuteTime": {
     "end_time": "2025-05-13T09:08:35.828261Z",
     "start_time": "2025-05-13T09:08:35.825092Z"
    }
   },
   "cell_type": "code",
   "source": [
    "import requests\n",
    "\n",
    "def get_stream(query: str):\n",
    "    localsession = requests.Session()\n",
    "    with localsession.post(\n",
    "        f\"http://localhost:5555/invoke?content={query}\",\n",
    "        stream=True,\n",
    "        headers={\"Accept\": \"text/event-stream\"}\n",
    "    ) as response:\n",
    "        for token in response.iter_content(decode_unicode=True):\n",
    "            if token:  # Skip empty lines\n",
    "                print(token, end=\"\", flush=True)"
   ],
   "id": "ea6c0d3116e59ca9",
   "outputs": [],
   "execution_count": 7
  },
  {
   "metadata": {
    "ExecuteTime": {
     "end_time": "2025-05-13T09:09:02.370402Z",
     "start_time": "2025-05-13T09:08:56.069504Z"
    }
   },
   "cell_type": "code",
   "source": "get_stream(\"hİ my name is enes\")",
   "id": "4be88e6fb14b0141",
   "outputs": [
    {
     "name": "stdout",
     "output_type": "stream",
     "text": [
      "<step><step_name>final_answer</step_name><answer>Hello Enes, it's nice to meet you!</answer><tools_used>[]</tools_used>"
     ]
    }
   ],
   "execution_count": 9
  },
  {
   "metadata": {
    "ExecuteTime": {
     "end_time": "2025-05-13T09:11:00.894275Z",
     "start_time": "2025-05-13T09:10:54.656111Z"
    }
   },
   "cell_type": "code",
   "source": "get_stream(\"Do you know my name\")",
   "id": "30602b5a85afb437",
   "outputs": [
    {
     "name": "stdout",
     "output_type": "stream",
     "text": [
      "<step><step_name>final_answer</step_name><answer>I do not have access to your personal information, so I don't know your name.</answer><tools_used>[]</tools_used>"
     ]
    }
   ],
   "execution_count": 11
  },
  {
   "metadata": {},
   "cell_type": "code",
   "outputs": [],
   "execution_count": null,
   "source": "",
   "id": "f3690f710168f1ae"
  }
 ],
 "metadata": {
  "kernelspec": {
   "display_name": "Python 3",
   "language": "python",
   "name": "python3"
  },
  "language_info": {
   "codemirror_mode": {
    "name": "ipython",
    "version": 2
   },
   "file_extension": ".py",
   "mimetype": "text/x-python",
   "name": "python",
   "nbconvert_exporter": "python",
   "pygments_lexer": "ipython2",
   "version": "2.7.6"
  }
 },
 "nbformat": 4,
 "nbformat_minor": 5
}
